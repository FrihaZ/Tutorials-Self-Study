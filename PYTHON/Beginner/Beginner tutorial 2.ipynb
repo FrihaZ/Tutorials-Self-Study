{
 "cells": [
  {
   "cell_type": "code",
   "execution_count": 3,
   "metadata": {},
   "outputs": [
    {
     "name": "stdout",
     "output_type": "stream",
     "text": [
      "3\n"
     ]
    }
   ],
   "source": [
    "MyNumber = 3\n",
    "print(MyNumber)"
   ]
  },
  {
   "cell_type": "code",
   "execution_count": 8,
   "metadata": {},
   "outputs": [
    {
     "name": "stdout",
     "output_type": "stream",
     "text": [
      "100\n"
     ]
    }
   ],
   "source": [
    "MyNumber= 10 + 90\n",
    "print(MyNumber)"
   ]
  },
  {
   "cell_type": "code",
   "execution_count": 9,
   "metadata": {},
   "outputs": [
    {
     "name": "stdout",
     "output_type": "stream",
     "text": [
      "50\n"
     ]
    }
   ],
   "source": [
    "MyNumber= MyNumber-50\n",
    "print(MyNumber)"
   ]
  },
  {
   "cell_type": "code",
   "execution_count": 10,
   "metadata": {},
   "outputs": [
    {
     "name": "stdout",
     "output_type": "stream",
     "text": [
      "0\n"
     ]
    }
   ],
   "source": [
    "MyNumber-=50\n",
    "print(MyNumber)"
   ]
  },
  {
   "cell_type": "code",
   "execution_count": 17,
   "metadata": {},
   "outputs": [
    {
     "name": "stdout",
     "output_type": "stream",
     "text": [
      "[11, 500, 600]\n"
     ]
    }
   ],
   "source": [
    "##A LIST IS AN ARRAY OF VALUES \n",
    "## LISTS ARE DECLARED IN SQUARED BRACKETS\n",
    "\n",
    "nums= [11,500,600]\n",
    "print(nums)\n"
   ]
  },
  {
   "cell_type": "code",
   "execution_count": 18,
   "metadata": {},
   "outputs": [
    {
     "name": "stdout",
     "output_type": "stream",
     "text": [
      "[11, 500, 600, 21, 'im not a number']\n"
     ]
    }
   ],
   "source": [
    "##To add to list we use .append()\n",
    "\n",
    "nums.append(21)\n",
    "nums.append(\"im not a number\")\n",
    "\n",
    "print(nums)"
   ]
  },
  {
   "cell_type": "code",
   "execution_count": 19,
   "metadata": {},
   "outputs": [
    {
     "name": "stdout",
     "output_type": "stream",
     "text": [
      "{'ftp': 21, 'ssh': 22}\n"
     ]
    }
   ],
   "source": [
    "##DICTIONARIES are similar to lists but use a hash map\n",
    "## store a key and a value to that key\n",
    "\n",
    "## use a colon to sperate the key from the value\n",
    "\n",
    "Services= {'ftp':21, 'ssh': 22}  ##KEy is ftp and the value is the 21\n",
    "\n",
    "\n",
    "print(Services)"
   ]
  },
  {
   "cell_type": "code",
   "execution_count": null,
   "metadata": {},
   "outputs": [],
   "source": []
  },
  {
   "cell_type": "code",
   "execution_count": null,
   "metadata": {},
   "outputs": [],
   "source": []
  }
 ],
 "metadata": {
  "kernelspec": {
   "display_name": "Python 3",
   "language": "python",
   "name": "python3"
  },
  "language_info": {
   "codemirror_mode": {
    "name": "ipython",
    "version": 3
   },
   "file_extension": ".py",
   "mimetype": "text/x-python",
   "name": "python",
   "nbconvert_exporter": "python",
   "pygments_lexer": "ipython3",
   "version": "3.7.4"
  }
 },
 "nbformat": 4,
 "nbformat_minor": 2
}
