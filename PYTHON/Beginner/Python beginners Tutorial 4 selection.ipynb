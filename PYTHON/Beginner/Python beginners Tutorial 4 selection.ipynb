{
 "cells": [
  {
   "cell_type": "code",
   "execution_count": 2,
   "metadata": {},
   "outputs": [
    {
     "name": "stdout",
     "output_type": "stream",
     "text": [
      "Please enter a number: 0\n",
      "The number is zero\n",
      "greater than or equal to 0\n",
      " less than or equal to 0\n"
     ]
    }
   ],
   "source": [
    "## selection allows the programme to decide using 'if'\n",
    "\n",
    "num = int(input(\"Please enter a number: \"))\n",
    "\n",
    "if num == 0:\n",
    "    print(\"The number is zero\")\n",
    "if num > 0:\n",
    "    print(\" greater than 0\")\n",
    "    \n",
    "if num != 0:\n",
    "    print(\"Note equal to zero\")\n",
    "if num < 0:\n",
    "    print(\" less than 0\")\n",
    "    \n",
    "if num >= 0:\n",
    "    print(\"greater than or equal to 0\")\n",
    "if num <= 0:\n",
    "    print(\" less than or equal to 0\")"
   ]
  },
  {
   "cell_type": "code",
   "execution_count": 3,
   "metadata": {},
   "outputs": [
    {
     "name": "stdout",
     "output_type": "stream",
     "text": [
      "Please enter a number: 6\n",
      "The number is not 0\n"
     ]
    }
   ],
   "source": [
    "# ## else statements\n",
    "\n",
    "\n",
    "# if (expresion):\n",
    "#     do something\n",
    "# else: do this instead\n",
    "\n",
    "num = int(input(\"Please enter a number: \"))\n",
    "\n",
    "if num == 0:\n",
    "    print(\"The number is zero\")\n",
    "    \n",
    "else: \n",
    "    print(\"The number is not 0\")\n",
    "\n"
   ]
  },
  {
   "cell_type": "code",
   "execution_count": 7,
   "metadata": {},
   "outputs": [
    {
     "name": "stdout",
     "output_type": "stream",
     "text": [
      "Please enter a number: 5\n",
      "The number greater than zero\n"
     ]
    }
   ],
   "source": [
    "## elif statement\n",
    "## allows to combine  else and if to make elif statementt especially if we nee more than one decision\n",
    "\n",
    "\n",
    "# if(expression):\n",
    "#     do something\n",
    "# elif(expression):\n",
    "#     do something different\n",
    "# else:\n",
    "#     do this instead\n",
    "\n",
    "\n",
    "\n",
    "\n",
    "\n",
    "num = int(input(\"Please enter a number: \"))\n",
    "\n",
    "if num > 0:\n",
    "    print(\"The number greater than zero\")\n",
    "elif num <0:\n",
    "        print(\" the number is less than zero\")\n",
    "else: \n",
    "    print(\"The number is 0\")\n"
   ]
  },
  {
   "cell_type": "code",
   "execution_count": 8,
   "metadata": {},
   "outputs": [
    {
     "name": "stdout",
     "output_type": "stream",
     "text": [
      "Please enter the first number: 5\n",
      "Please enter the second number: 20\n",
      "The first number is less than the second\n",
      "The difference is -15\n"
     ]
    }
   ],
   "source": [
    "num1 = int(input(\"Please enter the first number: \"))\n",
    "\n",
    "num2 = int(input(\"Please enter the second number: \"))\n",
    "\n",
    "if num1 > num2:\n",
    "    print(\"The first number is greater than the second\")\n",
    "    print( \"The difference is \" + str(num1 - num2))\n",
    "\n",
    "elif num1 < num2:\n",
    "        print(\"The first number is less than the second\")\n",
    "        print( \"The difference is \" + str(num1 - num2))\n",
    "\n",
    "else: \n",
    "    print(\"The numbers are equal\")\n"
   ]
  },
  {
   "cell_type": "code",
   "execution_count": null,
   "metadata": {},
   "outputs": [],
   "source": []
  }
 ],
 "metadata": {
  "kernelspec": {
   "display_name": "Python 3",
   "language": "python",
   "name": "python3"
  },
  "language_info": {
   "codemirror_mode": {
    "name": "ipython",
    "version": 3
   },
   "file_extension": ".py",
   "mimetype": "text/x-python",
   "name": "python",
   "nbconvert_exporter": "python",
   "pygments_lexer": "ipython3",
   "version": "3.7.4"
  }
 },
 "nbformat": 4,
 "nbformat_minor": 2
}
