{
 "cells": [
  {
   "cell_type": "code",
   "execution_count": 2,
   "metadata": {},
   "outputs": [
    {
     "name": "stdout",
     "output_type": "stream",
     "text": [
      "HI MY NAME IS draps\n"
     ]
    }
   ],
   "source": [
    "name = \"draps\"\n",
    "print(\"HI MY NAME IS \" + name)"
   ]
  },
  {
   "cell_type": "code",
   "execution_count": 3,
   "metadata": {},
   "outputs": [
    {
     "name": "stdout",
     "output_type": "stream",
     "text": [
      "HI MY NAME IS draps\n"
     ]
    }
   ],
   "source": [
    "## we dont nee to add the plus sign\n",
    "\n",
    "\n",
    "name = \"draps\"\n",
    "print(\"HI MY NAME IS\", name)"
   ]
  },
  {
   "cell_type": "code",
   "execution_count": 4,
   "metadata": {},
   "outputs": [
    {
     "name": "stdout",
     "output_type": "stream",
     "text": [
      "Please enter your name: Friha\n",
      "Hello  Friha\n"
     ]
    }
   ],
   "source": [
    "## get input formt he user\n",
    "\n",
    "name= input(\"Please enter your name: \")\n",
    "\n",
    "print(\"Hello \", name)\n"
   ]
  },
  {
   "cell_type": "code",
   "execution_count": 5,
   "metadata": {},
   "outputs": [
    {
     "name": "stdout",
     "output_type": "stream",
     "text": [
      "Please enter your name: friha\n",
      "Hello  friha , Thank you for using my first programe!\n"
     ]
    }
   ],
   "source": [
    "## create a .py file \n",
    "\n",
    "## write tehse \n",
    "name= input(\"Please enter your name: \")\n",
    "\n",
    "print(\"Hello \", name, \", Thank you for using my first programe!\")\n",
    "\n",
    "\n",
    "##then right click the file name and open with IDLE and then RUN \n",
    "# the program will run and will ask to enter name "
   ]
  },
  {
   "cell_type": "code",
   "execution_count": null,
   "metadata": {},
   "outputs": [],
   "source": [
    "## create a multiplication program\n",
    "\n",
    "print(\"Welcome to Multiply\")\n",
    "num1= int(input(\"Please enter your first number: \"))  ##int is needed to make it into a number\n",
    "\n",
    "num2= int(input(\"Please enter your first number: \"))\n",
    "\n",
    "print(num1 *  num2)"
   ]
  },
  {
   "cell_type": "code",
   "execution_count": null,
   "metadata": {},
   "outputs": [],
   "source": []
  }
 ],
 "metadata": {
  "kernelspec": {
   "display_name": "Python 3",
   "language": "python",
   "name": "python3"
  },
  "language_info": {
   "codemirror_mode": {
    "name": "ipython",
    "version": 3
   },
   "file_extension": ".py",
   "mimetype": "text/x-python",
   "name": "python",
   "nbconvert_exporter": "python",
   "pygments_lexer": "ipython3",
   "version": "3.7.4"
  }
 },
 "nbformat": 4,
 "nbformat_minor": 2
}
