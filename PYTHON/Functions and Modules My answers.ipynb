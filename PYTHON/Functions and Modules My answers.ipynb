{
 "cells": [
  {
   "cell_type": "markdown",
   "metadata": {},
   "source": [
    "Define a function ```max_of_two()``` that takes two numbers as arguments and returns the largest of them. Use the if-then-else construct available in Python. (It is true that Python has the max() function built in, but writing it yourself is nevertheless a good exercise.)\n",
    "\n",
    "From http://www.ling.gu.se/~lager/python_exercises.html"
   ]
  },
  {
   "cell_type": "code",
   "execution_count": null,
   "metadata": {},
   "outputs": [],
   "source": [
    "def max_of_two():\n",
    "    numbers= range(3)\n",
    "    \n",
    "    try:\n",
    "        user_input1= int(input(\"Please write the first number\"))\n",
    "        user_input2= int(input(\"Please write the second number\"))\n",
    "        \n",
    "        if user_input1 > user_input2:\n",
    "            print(user_input1)\n",
    "        \n",
    "        elif user_input1 < user_input2:\n",
    "            print(user_input2)\n",
    "        \n",
    "        else:\n",
    "            print(\"Please write a number!\")\n",
    "        \n",
    "    except:\n",
    "        print(\"Please write a number!\")\n",
    "\n",
    "if __name__ == '__main__':\n",
    "    max_of_two()\n",
    "        "
   ]
  },
  {
   "cell_type": "markdown",
   "metadata": {},
   "source": [
    "Define a function ```max_of_three()``` that takes three numbers as arguments and returns the largest of them. Use if-then-else.\n",
    "\n",
    "From http://www.ling.gu.se/~lager/python_exercises.html"
   ]
  },
  {
   "cell_type": "code",
   "execution_count": null,
   "metadata": {},
   "outputs": [],
   "source": [
    "def max_of_three():\n",
    "    numbers= range(4)\n",
    "    \n",
    "    try:\n",
    "        user_input1= int(input(\"Please write the first number: \"))\n",
    "        user_input2= int(input(\"Please write the second number: \"))\n",
    "        user_input3= int(input(\"Please write the third number: \"))\n",
    "        \n",
    "        if user_input1 > user_input2:\n",
    "            if user_input1 > user_input3:\n",
    "                print(\"The largest number was: \", user_input1)\n",
    "        \n",
    "        if user_input2 > user_input1:\n",
    "            if user_input2 > user_input3:\n",
    "                print(\"The largest number was: \", user_input2)\n",
    "        \n",
    "        if user_input3 > user_input1:\n",
    "            if user_input3 > user_input2:\n",
    "                print(\"The largest number was: \", user_input3)\n",
    "                \n",
    "        \n",
    "        \n",
    "    except:\n",
    "        print(\"Please write a number!\")\n",
    "\n",
    "if __name__ == '__main__':\n",
    "    max_of_three()\n",
    "        \n",
    "    "
   ]
  },
  {
   "cell_type": "markdown",
   "metadata": {},
   "source": [
    "Define a function ```listMax()``` that takes a list as argument and returns a tuple with the maximum and its index in the list.\n",
    "\n",
    "Adapted from http://www.ling.gu.se/~lager/python_exercises.html\n"
   ]
  },
  {
   "cell_type": "code",
   "execution_count": 3,
   "metadata": {},
   "outputs": [
    {
     "name": "stdout",
     "output_type": "stream",
     "text": [
      "The maximum number is: 700 And the postion is: 4\n",
      "The minimum number is: 5 And the postion is: 6\n"
     ]
    }
   ],
   "source": [
    "def listMax(num, pos):\n",
    "    \n",
    "    # the max number and position\n",
    "    max_num = max(num)\n",
    "\n",
    "    max_pos = num.index(max(num)) \n",
    "    \n",
    "    # the min number and position\n",
    "\n",
    "    min_num = min(num)\n",
    "    \n",
    "    min_pos = num.index(min(num)) \n",
    "    \n",
    "    \n",
    "    print (\"The maximum number is: \" + str(max_num) + \" And the postion is: \" + str(max_pos+1) )\n",
    "    print (\"The minimum number is: \" + str(min_pos) + \" And the postion is: \" + str(min_pos+1) )\n",
    "\n",
    "    \n",
    "    \n",
    "A_LIST= [4,20,33,700,533,0]\n",
    "        \n",
    "listMax(A_LIST, len(A_LIST)) "
   ]
  },
  {
   "cell_type": "code",
   "execution_count": null,
   "metadata": {},
   "outputs": [],
   "source": []
  },
  {
   "cell_type": "code",
   "execution_count": null,
   "metadata": {},
   "outputs": [],
   "source": []
  }
 ],
 "metadata": {
  "kernelspec": {
   "display_name": "Python 3",
   "language": "python",
   "name": "python3"
  },
  "language_info": {
   "codemirror_mode": {
    "name": "ipython",
    "version": 3
   },
   "file_extension": ".py",
   "mimetype": "text/x-python",
   "name": "python",
   "nbconvert_exporter": "python",
   "pygments_lexer": "ipython3",
   "version": "3.7.4"
  }
 },
 "nbformat": 4,
 "nbformat_minor": 2
}
